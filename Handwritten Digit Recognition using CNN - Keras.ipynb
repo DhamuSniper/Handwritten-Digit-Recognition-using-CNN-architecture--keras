{
 "cells": [
  {
   "cell_type": "code",
   "execution_count": 1,
   "metadata": {},
   "outputs": [
    {
     "name": "stderr",
     "output_type": "stream",
     "text": [
      "Using TensorFlow backend.\n"
     ]
    }
   ],
   "source": [
    "#importing the data\n",
    "\n",
    "from keras.datasets import mnist\n",
    "(x_train,y_train),(x_test,y_test)= mnist.load_data()"
   ]
  },
  {
   "cell_type": "code",
   "execution_count": 2,
   "metadata": {},
   "outputs": [],
   "source": [
    "#let's look at some of the Images of the data\n",
    "\n",
    "import matplotlib.pyplot as plt\n",
    "import numpy as np\n",
    "\n",
    "for i in range(0,6):\n",
    "    plt.subplot((331+i))\n",
    "    random_num=np.random.randint(0,len(x_train))\n",
    "    plt.imshow(x_train[random_num],cmap=plt.get_cmap('gray'))"
   ]
  },
  {
   "cell_type": "code",
   "execution_count": 3,
   "metadata": {},
   "outputs": [
    {
     "name": "stdout",
     "output_type": "stream",
     "text": [
      "x_traing_shape (60000, 28, 28, 1)\n",
      "60000 training samples\n",
      "10000 testing samples\n"
     ]
    }
   ],
   "source": [
    "#Preparing Dataset for Training!\n",
    "\n",
    "#getting the shapes of columns and rows of an image\n",
    "img_rows=x_train[0].shape[0]\n",
    "img_cols=x_train[1].shape[0]\n",
    "\n",
    "\n",
    "#reshaping the image value to (60000,28,28,1) since it is grayscale image\n",
    "\n",
    "x_train=x_train.reshape(x_train.shape[0],img_rows,img_cols,1)\n",
    "x_test=x_test.reshape(x_test.shape[0],img_rows,img_cols,1)\n",
    "\n",
    "#Determining the input_shape\n",
    "\n",
    "input_shape=(img_rows,img_cols,1)\n",
    "\n",
    "#changing to float32 datatype!\n",
    "x_train=x_train.astype(\"float32\")\n",
    "x_test=x_test.astype(\"float32\")\n",
    "\n",
    "#Normalizing the values of an image from 0 to 1 rather than 0-255 pixel values to ease the operation\n",
    "x_train/=255\n",
    "x_test/=255\n",
    "\n",
    "\n",
    "print(\"x_traing_shape\",x_train.shape)\n",
    "print(x_train.shape[0],\"training samples\")\n",
    "print(x_test.shape[0],\"testing samples\")"
   ]
  },
  {
   "cell_type": "code",
   "execution_count": 4,
   "metadata": {},
   "outputs": [
    {
     "name": "stdout",
     "output_type": "stream",
     "text": [
      "10\n"
     ]
    }
   ],
   "source": [
    "#ONE HOT ENCODING!\n",
    "\n",
    "from keras.utils import np_utils\n",
    "\n",
    "y_train=np_utils.to_categorical(y_train)\n",
    "y_test=np_utils.to_categorical(y_test)\n",
    "\n",
    "num_classes=y_test.shape[1]\n",
    "print(num_classes)\n"
   ]
  },
  {
   "cell_type": "code",
   "execution_count": 5,
   "metadata": {},
   "outputs": [
    {
     "name": "stdout",
     "output_type": "stream",
     "text": [
      "_________________________________________________________________\n",
      "Layer (type)                 Output Shape              Param #   \n",
      "=================================================================\n",
      "conv2d_1 (Conv2D)            (None, 26, 26, 32)        320       \n",
      "_________________________________________________________________\n",
      "conv2d_2 (Conv2D)            (None, 24, 24, 64)        18496     \n",
      "_________________________________________________________________\n",
      "max_pooling2d_1 (MaxPooling2 (None, 12, 12, 64)        0         \n",
      "_________________________________________________________________\n",
      "dropout_1 (Dropout)          (None, 12, 12, 64)        0         \n",
      "_________________________________________________________________\n",
      "flatten_1 (Flatten)          (None, 9216)              0         \n",
      "_________________________________________________________________\n",
      "dense_1 (Dense)              (None, 128)               1179776   \n",
      "_________________________________________________________________\n",
      "dropout_2 (Dropout)          (None, 128)               0         \n",
      "_________________________________________________________________\n",
      "dense_2 (Dense)              (None, 10)                1290      \n",
      "=================================================================\n",
      "Total params: 1,199,882\n",
      "Trainable params: 1,199,882\n",
      "Non-trainable params: 0\n",
      "_________________________________________________________________\n",
      "None\n"
     ]
    }
   ],
   "source": [
    "#Model\n",
    "\n",
    "\n",
    "import keras\n",
    "\n",
    "from keras.models import Sequential\n",
    "from keras.layers import Dense, Dropout, Flatten\n",
    "from keras.layers import Conv2D,MaxPooling2D\n",
    "from keras import backend as K\n",
    "from keras.optimizers import SGD\n",
    "\n",
    "\n",
    "model=Sequential()\n",
    "\n",
    "model.add(Conv2D(32,kernel_size=(3,3),activation='relu',input_shape=input_shape))\n",
    "\n",
    "model.add(Conv2D(64,kernel_size=(3,3),activation='relu'))\n",
    "\n",
    "model.add(MaxPooling2D(pool_size=(2,2)))\n",
    "\n",
    "model.add(Dropout(0.25))\n",
    "\n",
    "model.add(Flatten())\n",
    "\n",
    "model.add(Dense(128,activation='relu'))\n",
    "\n",
    "model.add(Dropout(0.5))\n",
    "\n",
    "model.add(Dense(num_classes,activation='softmax'))\n",
    "\n",
    "model.compile(loss='categorical_crossentropy',optimizer=SGD(0.01),metrics=['accuracy'])\n",
    "\n",
    "print(model.summary())"
   ]
  },
  {
   "cell_type": "code",
   "execution_count": 6,
   "metadata": {},
   "outputs": [
    {
     "name": "stdout",
     "output_type": "stream",
     "text": [
      "Train on 60000 samples, validate on 10000 samples\n",
      "Epoch 1/10\n",
      "60000/60000 [==============================] - 195s 3ms/step - loss: 0.5821 - acc: 0.8185 - val_loss: 0.1914 - val_acc: 0.9419\n",
      "Epoch 2/10\n",
      "60000/60000 [==============================] - 197s 3ms/step - loss: 0.2768 - acc: 0.9165 - val_loss: 0.1346 - val_acc: 0.9581\n",
      "Epoch 3/10\n",
      "60000/60000 [==============================] - 198s 3ms/step - loss: 0.2065 - acc: 0.9381 - val_loss: 0.1019 - val_acc: 0.9689\n",
      "Epoch 4/10\n",
      "60000/60000 [==============================] - 198s 3ms/step - loss: 0.1617 - acc: 0.9519 - val_loss: 0.0784 - val_acc: 0.9756\n",
      "Epoch 5/10\n",
      "60000/60000 [==============================] - 201s 3ms/step - loss: 0.1326 - acc: 0.9606 - val_loss: 0.0677 - val_acc: 0.9784\n",
      "Epoch 6/10\n",
      "60000/60000 [==============================] - 198s 3ms/step - loss: 0.1155 - acc: 0.9653 - val_loss: 0.0563 - val_acc: 0.9816\n",
      "Epoch 7/10\n",
      "60000/60000 [==============================] - 200s 3ms/step - loss: 0.1028 - acc: 0.9693 - val_loss: 0.0523 - val_acc: 0.9825\n",
      "Epoch 8/10\n",
      "60000/60000 [==============================] - 217s 4ms/step - loss: 0.0949 - acc: 0.9716 - val_loss: 0.0490 - val_acc: 0.9846\n",
      "Epoch 9/10\n",
      "60000/60000 [==============================] - 219s 4ms/step - loss: 0.0870 - acc: 0.9735 - val_loss: 0.0456 - val_acc: 0.9858\n",
      "Epoch 10/10\n",
      "60000/60000 [==============================] - 223s 4ms/step - loss: 0.0795 - acc: 0.9761 - val_loss: 0.0453 - val_acc: 0.9856\n",
      "Test loss 0.0453454895208939\n",
      "Test Accuracy 0.9856\n"
     ]
    }
   ],
   "source": [
    "#Train our Model\n",
    "epochs=10\n",
    "batch_size=32\n",
    "\n",
    "predictions=model.fit(x_train,y_train,batch_size=batch_size,epochs=epochs,verbose=1,validation_data=(x_test,y_test))\n",
    "score=model.evaluate(x_test,y_test,verbose=0)\n",
    "print(\"Test loss\",score[0])\n",
    "print(\"Test Accuracy\",score[1])"
   ]
  },
  {
   "cell_type": "code",
   "execution_count": 11,
   "metadata": {},
   "outputs": [
    {
     "data": {
      "image/png": "[encoded data removed]",
      "text/plain": [
       "<Figure size 432x288 with 1 Axes>"
      ]
     },
     "metadata": {
      "needs_background": "light"
     },
     "output_type": "display_data"
    }
   ],
   "source": [
    "#Loss Maps of Test/validation data and Training data vs Epochs\n",
    "import matplotlib.pyplot as plt\n",
    "\n",
    "history_dict=predictions.history\n",
    "\n",
    "loss_values=history_dict['loss']\n",
    "val_loss_values=history_dict['val_loss']\n",
    "epochs=range(1,len(loss_values)+1)\n",
    "\n",
    "line1=plt.plot(epochs,loss_values,label=\"Training loss\")\n",
    "line2=plt.plot(epochs,val_loss_values,label=\"Test/validation loss\")\n",
    "\n",
    "plt.setp(line1,linewidth=2.0,marker='+',markersize=10.0)\n",
    "plt.setp(line2,linewidth=2.0,marker='4',markersize=10.0)\n",
    "\n",
    "plt.xlabel('Epochs')\n",
    "plt.ylabel('Loss')\n",
    "plt.grid('True')\n",
    "plt.legend()\n",
    "plt.show()"
   ]
  },
  {
   "cell_type": "code",
   "execution_count": 15,
   "metadata": {},
   "outputs": [
    {
     "data": {
      "image/png": "[encoded data removed]",
      "text/plain": [
       "<Figure size 432x288 with 1 Axes>"
      ]
     },
     "metadata": {
      "needs_background": "light"
     },
     "output_type": "display_data"
    }
   ],
   "source": [
    "#Accuracy maps for Training data and Test/validation data vs Epochs\n",
    "history_dict=predictions.history\n",
    "\n",
    "accuracy_values=history_dict['acc']\n",
    "val_acc_values=history_dict['val_acc']\n",
    "epochs=range(1,len(loss_values)+1)\n",
    "\n",
    "line1=plt.plot(epochs,accuracy_values,label=\"Training accuracy\")\n",
    "line2=plt.plot(epochs,val_acc_values,label=\"Test/validation accuracy\")\n",
    "\n",
    "plt.setp(line1,linewidth=2.0,marker='+',markersize=10.0)\n",
    "plt.setp(line2,linewidth=2.0,marker='4',markersize=10.0)\n",
    "\n",
    "plt.xlabel('Epochs')\n",
    "plt.ylabel('Accuracy')\n",
    "plt.grid('True')\n",
    "plt.legend()\n",
    "plt.show()"
   ]
  },
  {
   "cell_type": "code",
   "execution_count": null,
   "metadata": {},
   "outputs": [],
   "source": []
  }
 ],
 "metadata": {
  "kernelspec": {
   "display_name": "Python 3",
   "language": "python",
   "name": "python3"
  },
  "language_info": {
   "codemirror_mode": {
    "name": "ipython",
    "version": 3
   },
   "file_extension": ".py",
   "mimetype": "text/x-python",
   "name": "python",
   "nbconvert_exporter": "python",
   "pygments_lexer": "ipython3",
   "version": "3.6.6"
  }
 },
 "nbformat": 4,
 "nbformat_minor": 2
}
